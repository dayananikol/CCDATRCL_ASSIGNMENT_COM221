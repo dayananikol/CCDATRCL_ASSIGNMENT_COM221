{
  "cells": [
    {
      "cell_type": "markdown",
      "metadata": {
        "id": "view-in-github",
        "colab_type": "text"
      },
      "source": [
        "<a href=\"https://colab.research.google.com/github/dayananikol/CCDATRCL_ASSIGNMENT_COM221/blob/main/exercise5.ipynb\" target=\"_parent\"><img src=\"https://colab.research.google.com/assets/colab-badge.svg\" alt=\"Open In Colab\"/></a>"
      ]
    },
    {
      "cell_type": "markdown",
      "metadata": {
        "id": "u70kYjRwfYiS"
      },
      "source": [
        "# Exercise 5"
      ]
    },
    {
      "cell_type": "markdown",
      "metadata": {
        "id": "WJZ4-TapfYic"
      },
      "source": [
        "#### 1. Create a dictionary of your 10 favorite songs."
      ]
    },
    {
      "cell_type": "markdown",
      "metadata": {
        "id": "VHTmw1UUfYie"
      },
      "source": [
        "Example:\n",
        "\n",
        "|KEY|VALUE|\n",
        "|---|---|\n",
        "|001|My Love|\n",
        "|002|Like a rose|"
      ]
    },
    {
      "cell_type": "code",
      "execution_count": 32,
      "metadata": {
        "id": "QYzyMzNzfYif",
        "colab": {
          "base_uri": "https://localhost:8080/"
        },
        "outputId": "de4183c3-28a9-49e9-bdb7-10abf37c42a7"
      },
      "outputs": [
        {
          "output_type": "stream",
          "name": "stdout",
          "text": [
            "{'001': 'Grl Gvng', '002': 'Smoke', '003': 'Hold Me Tight', '004': 'Blockbuster', '005': 'Fever', '006': 'Ditto', '007': 'Distraction', '008': \"I Don't Understand but I Luv U\", '009': 'Super', '010': 'Cool With You'}\n"
          ]
        }
      ],
      "source": [
        "mydictionary = {\n",
        "    \"001\": \"Grl Gvng\",\n",
        "    \"002\": \"Smoke\",\n",
        "    \"003\": \"Hold Me Tight\",\n",
        "    \"004\": \"Blockbuster\",\n",
        "    \"005\": \"Fever\",\n",
        "    \"006\": \"Ditto\",\n",
        "    \"007\": \"Distraction\",\n",
        "    \"008\": \"I Don't Understand but I Luv U\",\n",
        "    \"009\": \"Super\",\n",
        "    \"010\": \"Cool With You\",\n",
        "}\n",
        "\n",
        "print(mydictionary)"
      ]
    },
    {
      "cell_type": "markdown",
      "metadata": {
        "id": "W5aa7zw1fYii"
      },
      "source": [
        "#### 2. Loop through the dictionary by its **key** and **value**"
      ]
    },
    {
      "cell_type": "code",
      "execution_count": 33,
      "metadata": {
        "id": "cnHWcR9rfYij",
        "colab": {
          "base_uri": "https://localhost:8080/"
        },
        "outputId": "9f78b714-accb-4990-abe1-3eb05f58998c"
      },
      "outputs": [
        {
          "output_type": "stream",
          "name": "stdout",
          "text": [
            "001 Grl Gvng\n",
            "002 Smoke\n",
            "003 Hold Me Tight\n",
            "004 Blockbuster\n",
            "005 Fever\n",
            "006 Ditto\n",
            "007 Distraction\n",
            "008 I Don't Understand but I Luv U\n",
            "009 Super\n",
            "010 Cool With You\n"
          ]
        }
      ],
      "source": [
        "for x, y in mydictionary.items():\n",
        "  print(x, y)"
      ]
    },
    {
      "cell_type": "markdown",
      "metadata": {
        "id": "eOMwo9uOfYik"
      },
      "source": [
        "#### 3. Add one additional song"
      ]
    },
    {
      "cell_type": "code",
      "execution_count": 34,
      "metadata": {
        "id": "0zpmtMFrfYil",
        "colab": {
          "base_uri": "https://localhost:8080/"
        },
        "outputId": "8d01cab5-9a9a-4b4a-fa44-4013e01e0c5e"
      },
      "outputs": [
        {
          "output_type": "execute_result",
          "data": {
            "text/plain": [
              "{'001': 'Grl Gvng',\n",
              " '002': 'Smoke',\n",
              " '003': 'Hold Me Tight',\n",
              " '004': 'Blockbuster',\n",
              " '005': 'Fever',\n",
              " '006': 'Ditto',\n",
              " '007': 'Distraction',\n",
              " '008': \"I Don't Understand but I Luv U\",\n",
              " '009': 'Super',\n",
              " '010': 'Cool With You',\n",
              " '011': 'Water'}"
            ]
          },
          "metadata": {},
          "execution_count": 34
        }
      ],
      "source": [
        "mydictionary.update({\"011\": \"Water\"})\n",
        "mydictionary"
      ]
    },
    {
      "cell_type": "markdown",
      "metadata": {
        "id": "BjBX3GNtfYim"
      },
      "source": [
        "#### 4. Remove one song"
      ]
    },
    {
      "cell_type": "code",
      "execution_count": 36,
      "metadata": {
        "id": "-HlqnyCkfYim",
        "colab": {
          "base_uri": "https://localhost:8080/"
        },
        "outputId": "62de986e-e1ce-4a62-a15c-830f2598d69e"
      },
      "outputs": [
        {
          "output_type": "execute_result",
          "data": {
            "text/plain": [
              "{'001': 'Grl Gvng',\n",
              " '002': 'Smoke',\n",
              " '003': 'Hold Me Tight',\n",
              " '004': 'Blockbuster',\n",
              " '005': 'Fever',\n",
              " '006': 'Ditto',\n",
              " '007': 'Distraction',\n",
              " '008': \"I Don't Understand but I Luv U\",\n",
              " '009': 'Super',\n",
              " '011': 'Water'}"
            ]
          },
          "metadata": {},
          "execution_count": 36
        }
      ],
      "source": [
        "mydictionary.pop(\"010\")\n",
        "mydictionary"
      ]
    },
    {
      "cell_type": "markdown",
      "metadata": {
        "id": "bEBKbBozfYin"
      },
      "source": [
        "#### 5. Create a nested dictionary of your 10 favorite songs with 5 genres. Display all of the items of the nested dictionary\n",
        "\n",
        "- Each nested dictionary's key should be the genre of the song\n",
        "- Put each song in their respective genre"
      ]
    },
    {
      "cell_type": "markdown",
      "metadata": {
        "id": "f_admg5HfYin"
      },
      "source": [
        "Example:\n",
        "\n",
        "\n",
        "|KEY|VALUE|\n",
        "|---|---|\n",
        "|Pop|{001, Baby}|\n",
        "|Rock|{001, Enter Sandman}|"
      ]
    },
    {
      "cell_type": "code",
      "execution_count": 37,
      "metadata": {
        "id": "ndGjgCeGfYin",
        "colab": {
          "base_uri": "https://localhost:8080/"
        },
        "outputId": "fc34acc3-9fb1-4085-bfc4-7ee5ce754576"
      },
      "outputs": [
        {
          "output_type": "execute_result",
          "data": {
            "text/plain": [
              "{'Rap': {'001': 'Upuan', '002': 'Smoke'},\n",
              " 'Ballad': {'003': 'All of Me', '004': 'Someone Like You'},\n",
              " 'HipHop': {'005': 'We Are Bulletproof pt. 2', '006': 'Hello Bitches'},\n",
              " 'RnB': {'007': 'All I Wanna Do', '008': 'Mommae'},\n",
              " 'Pop': {'009': 'Trumpets', '010': 'Savage Love'}}"
            ]
          },
          "metadata": {},
          "execution_count": 37
        }
      ],
      "source": [
        "mydictionary = {\n",
        "  \"Rap\": {\n",
        "      \"001\": \"Upuan\",\n",
        "      \"002\": \"Smoke\"\n",
        "        },\n",
        "\n",
        "  \"Ballad\": {\n",
        "      \"003\": \"All of Me\",\n",
        "      \"004\": \"Someone Like You\"\n",
        "        },\n",
        "\n",
        "  \"HipHop\": {\n",
        "      \"005\": \"We Are Bulletproof pt. 2\",\n",
        "      \"006\": \"Hello Bitches\"\n",
        "      },\n",
        "\n",
        "  \"RnB\": {\n",
        "      \"007\": \"All I Wanna Do\",\n",
        "      \"008\": \"Mommae\"\n",
        "      },\n",
        "\n",
        "  \"Pop\": {\n",
        "      \"009\": \"Trumpets\",\n",
        "      \"010\": \"Savage Love\"\n",
        "      }\n",
        "  }\n",
        "\n",
        "mydictionary"
      ]
    },
    {
      "cell_type": "markdown",
      "metadata": {
        "id": "2TPDo31RfYio"
      },
      "source": [
        "#### 6. Print the first song of the first genre"
      ]
    },
    {
      "cell_type": "code",
      "execution_count": 38,
      "metadata": {
        "id": "ejEMeil0fYio",
        "colab": {
          "base_uri": "https://localhost:8080/"
        },
        "outputId": "8d1b7e00-1530-44b7-ad15-53365e77c592"
      },
      "outputs": [
        {
          "output_type": "stream",
          "name": "stdout",
          "text": [
            "Upuan\n"
          ]
        }
      ],
      "source": [
        "print(mydictionary[\"Rap\"][\"001\"])"
      ]
    },
    {
      "cell_type": "markdown",
      "metadata": {
        "id": "UGMF0nydfYio"
      },
      "source": [
        "#### 7. Print the first song of the last genre"
      ]
    },
    {
      "cell_type": "code",
      "execution_count": 39,
      "metadata": {
        "id": "KELlAbgBfYio",
        "colab": {
          "base_uri": "https://localhost:8080/"
        },
        "outputId": "9a64de22-da75-4179-ef44-1a419036e424"
      },
      "outputs": [
        {
          "output_type": "stream",
          "name": "stdout",
          "text": [
            "Trumpets\n"
          ]
        }
      ],
      "source": [
        "print(mydictionary[\"Pop\"][\"009\"])"
      ]
    }
  ],
  "metadata": {
    "kernelspec": {
      "display_name": "Python 3",
      "language": "python",
      "name": "python3"
    },
    "language_info": {
      "codemirror_mode": {
        "name": "ipython",
        "version": 3
      },
      "file_extension": ".py",
      "mimetype": "text/x-python",
      "name": "python",
      "nbconvert_exporter": "python",
      "pygments_lexer": "ipython3",
      "version": "3.11.4"
    },
    "orig_nbformat": 4,
    "colab": {
      "provenance": [],
      "include_colab_link": true
    }
  },
  "nbformat": 4,
  "nbformat_minor": 0
}