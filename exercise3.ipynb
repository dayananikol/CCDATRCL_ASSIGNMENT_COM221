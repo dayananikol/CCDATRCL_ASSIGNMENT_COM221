{
  "cells": [
    {
      "cell_type": "markdown",
      "metadata": {
        "id": "view-in-github",
        "colab_type": "text"
      },
      "source": [
        "<a href=\"https://colab.research.google.com/github/dayananikol/CCDATRCL_ASSIGNMENT_COM221/blob/main/exercise3.ipynb\" target=\"_parent\"><img src=\"https://colab.research.google.com/assets/colab-badge.svg\" alt=\"Open In Colab\"/></a>"
      ]
    },
    {
      "cell_type": "markdown",
      "metadata": {
        "id": "VKi-yC5_lmC-"
      },
      "source": [
        "# Exercise 3"
      ]
    },
    {
      "cell_type": "markdown",
      "metadata": {
        "id": "IYgQ_HpClmDB"
      },
      "source": [
        "#### Pre-defined classes"
      ]
    },
    {
      "cell_type": "markdown",
      "metadata": {
        "id": "zZ5Izeo3lmDC"
      },
      "source": [
        "Pre-defined Queue class"
      ]
    },
    {
      "cell_type": "code",
      "execution_count": 2,
      "metadata": {
        "id": "Q8JWFL1XlmDD"
      },
      "outputs": [],
      "source": [
        "class Queue:\n",
        "    def __init__(self):\n",
        "        self.queue = []\n",
        "\n",
        "    # Add an element\n",
        "    def enqueue(self, item):\n",
        "        self.queue.append(item)\n",
        "\n",
        "    # Remove an element\n",
        "    def dequeue(self):\n",
        "        if len(self.queue) < 1:\n",
        "            return None\n",
        "        return self.queue.pop(0)\n",
        "\n",
        "    # Display  the queue\n",
        "    def display(self):\n",
        "        print(self.queue)\n",
        "\n",
        "    def size(self):\n",
        "        return len(self.queue)\n",
        "\n",
        "    def peek(self):\n",
        "        return self.queue[0]\n"
      ]
    },
    {
      "cell_type": "markdown",
      "metadata": {
        "id": "YA59WEnSlmDE"
      },
      "source": [
        "Pre-defined Deque class"
      ]
    },
    {
      "cell_type": "code",
      "execution_count": 3,
      "metadata": {
        "id": "J7akf72blmDE"
      },
      "outputs": [],
      "source": [
        "class Deque:\n",
        "    def __init__(self):\n",
        "        self.items = []\n",
        "\n",
        "    def isEmpty(self):\n",
        "        return self.items == []\n",
        "\n",
        "    def addRear(self, item):\n",
        "        self.items.append(item)\n",
        "\n",
        "    def addFront(self, item):\n",
        "        self.items.insert(0, item)\n",
        "\n",
        "    def removeFront(self):\n",
        "        return self.items.pop(0)\n",
        "\n",
        "    def removeRear(self):\n",
        "        return self.items.pop()\n",
        "\n",
        "    def size(self):\n",
        "        return len(self.items)"
      ]
    },
    {
      "cell_type": "markdown",
      "metadata": {
        "id": "yw7ktvo3lmDE"
      },
      "source": [
        "Pre-defined Circular Queue class"
      ]
    },
    {
      "cell_type": "code",
      "execution_count": 4,
      "metadata": {
        "id": "3ZgO4TJqlmDF"
      },
      "outputs": [],
      "source": [
        "class CircularQueue():\n",
        "\n",
        "    def __init__(self, k):\n",
        "        self.k = k\n",
        "        self.queue = [None] * k\n",
        "        self.head = self.tail = -1\n",
        "\n",
        "    # Insert an element into the circular queue\n",
        "    def enqueue(self, data):\n",
        "\n",
        "        if ((self.tail + 1) % self.k == self.head):\n",
        "            print(\"The circular queue is full\\n\")\n",
        "\n",
        "        elif (self.head == -1):\n",
        "            self.head = 0\n",
        "            self.tail = 0\n",
        "            self.queue[self.tail] = data\n",
        "        else:\n",
        "            self.tail = (self.tail + 1) % self.k\n",
        "            self.queue[self.tail] = data\n",
        "\n",
        "    # Delete an element from the circular queue\n",
        "    def dequeue(self):\n",
        "        if (self.head == -1):\n",
        "            print(\"The circular queue is empty\\n\")\n",
        "\n",
        "        elif (self.head == self.tail):\n",
        "            temp = self.queue[self.head]\n",
        "            self.head = -1\n",
        "            self.tail = -1\n",
        "            return temp\n",
        "        else:\n",
        "            temp = self.queue[self.head]\n",
        "            self.head = (self.head + 1) % self.k\n",
        "            return temp\n",
        "\n",
        "    def printCQueue(self):\n",
        "        if(self.head == -1):\n",
        "            print(\"No element in the circular queue\")\n",
        "\n",
        "        elif (self.tail >= self.head):\n",
        "            for i in range(self.head, self.tail + 1):\n",
        "                print(self.queue[i], end=\" \")\n",
        "            print()\n",
        "        else:\n",
        "            for i in range(self.head, self.k):\n",
        "                print(self.queue[i], end=\" \")\n",
        "            for i in range(0, self.tail + 1):\n",
        "                print(self.queue[i], end=\" \")\n",
        "            print()\n"
      ]
    },
    {
      "cell_type": "markdown",
      "metadata": {
        "id": "bTj3esH1lmDF"
      },
      "source": [
        "Pre-defined Priority Queue Class"
      ]
    },
    {
      "cell_type": "code",
      "execution_count": 5,
      "metadata": {
        "id": "dUmQVDGelmDG"
      },
      "outputs": [],
      "source": [
        "class PriorityQueueNode:\n",
        "    def __init__(self, value, pr):\n",
        "\n",
        "        self.data = value\n",
        "        self.priority = pr\n",
        "        self.next = None"
      ]
    },
    {
      "cell_type": "code",
      "execution_count": 6,
      "metadata": {
        "id": "1XnBkPCOlmDH"
      },
      "outputs": [],
      "source": [
        "class PriorityQueue:\n",
        "\n",
        "\tdef __init__(self):\n",
        "\n",
        "\t\tself.front = None\n",
        "\n",
        "\t# Method to check Priority Queue is Empty\n",
        "\t# or not if Empty then it will return True\n",
        "\t# Otherwise False\n",
        "\tdef isEmpty(self):\n",
        "\n",
        "\t\treturn True if self.front == None else False\n",
        "\n",
        "\t# Method to add items in Priority Queue\n",
        "\t# According to their priority value\n",
        "\tdef push(self, value, priority):\n",
        "\n",
        "\t\t# Condition check for checking Priority\n",
        "\t\t# Queue is empty or not\n",
        "\t\tif self.isEmpty() == True:\n",
        "\n",
        "\t\t\t# Creating a new node and assigning\n",
        "\t\t\t# it to class variable\n",
        "\t\t\tself.front = PriorityQueueNode(value, priority)\n",
        "\n",
        "\t\t\t# Returning 1 for successful execution\n",
        "\t\t\treturn 1\n",
        "\n",
        "\t\telse:\n",
        "\n",
        "\t\t\t# Special condition check to see that\n",
        "\t\t\t# first node priority value\n",
        "\t\t\tif self.front.priority > priority:\n",
        "\t\t\t\t# Creating a new node\n",
        "\t\t\t\tnewNode = PriorityQueueNode(value, priority)\n",
        "\t\t\t\t# Updating the new node next value\n",
        "\t\t\t\tnewNode.next = self.front\n",
        "\n",
        "\t\t\t\t# Assigning it to self.front\n",
        "\t\t\t\tself.front = newNode\n",
        "\n",
        "\t\t\t\t# Returning 1 for successful execution\n",
        "\t\t\t\treturn 1\n",
        "\n",
        "\t\t\telse:\n",
        "\n",
        "\t\t\t\t# Traversing through Queue until it\n",
        "\t\t\t\t# finds the next smaller priority node\n",
        "\t\t\t\ttemp = self.front\n",
        "\n",
        "\t\t\t\twhile temp.next:\n",
        "\t\t\t\t\t# If same priority node found then current\n",
        "\t\t\t\t\t# node will come after previous node\n",
        "\t\t\t\t\tif priority <= temp.next.priority:\n",
        "\t\t\t\t\t\tbreak\n",
        "\n",
        "\t\t\t\t\ttemp = temp.next\n",
        "\n",
        "\t\t\t\tnewNode = PriorityQueueNode(value, priority)\n",
        "\t\t\t\tnewNode.next = temp.next\n",
        "\t\t\t\ttemp.next = newNode\n",
        "\n",
        "\t\t\t\t# Returning 1 for successful execution\n",
        "\t\t\t\treturn 1\n",
        "\n",
        "\t# Method to remove high priority item\n",
        "\t# from the Priority Queue\n",
        "\tdef pop(self):\n",
        "\n",
        "\t\t# Condition check for checking\n",
        "\t\t# Priority Queue is empty or not\n",
        "\t\tif self.isEmpty() == True:\n",
        "\t\t\treturn\n",
        "\t\telse:\n",
        "\t\t\t# Removing high priority node from\n",
        "\t\t\t# Priority Queue, and updating front\n",
        "\t\t\t# with next node\n",
        "\t\t\tself.front = self.front.next\n",
        "\t\t\treturn 1\n",
        "\n",
        "\t# Method to return high priority node\n",
        "\t# value Not removing it\n",
        "\tdef peek(self):\n",
        "\t\t# Condition check for checking Priority\n",
        "\t\t# Queue is empty or not\n",
        "\t\tif self.isEmpty() == True:\n",
        "\t\t\treturn\n",
        "\t\telse:\n",
        "\t\t\treturn self.front.data\n",
        "\n",
        "\t# Method to Traverse through Priority\n",
        "\t# Queue\n",
        "\tdef traverse(self):\n",
        "\t\t# Condition check for checking Priority\n",
        "\t\t# Queue is empty or not\n",
        "\t\tif self.isEmpty() == True:\n",
        "\t\t\treturn \"Queue is Empty!\"\n",
        "\t\telse:\n",
        "\t\t\ttemp = self.front\n",
        "\t\t\twhile temp:\n",
        "\t\t\t\tprint(temp.data, end=\" \")\n",
        "\t\t\t\ttemp = temp.next\n"
      ]
    },
    {
      "cell_type": "markdown",
      "metadata": {
        "id": "FgNkgSn3lmDI"
      },
      "source": [
        "#### 1. Create a Queue\n",
        "\n",
        "- Each element should contain your name and your other classmates\n",
        "- There should be at least 5 elements in the queue\n",
        "- Put yourself at the end of the queue\n",
        "- Print all elements in the queue"
      ]
    },
    {
      "cell_type": "code",
      "execution_count": 7,
      "metadata": {
        "id": "b3QxMd1flmDJ",
        "colab": {
          "base_uri": "https://localhost:8080/"
        },
        "outputId": "7d641f56-4bf1-423d-868d-4bb2db2ceee3"
      },
      "outputs": [
        {
          "output_type": "stream",
          "name": "stdout",
          "text": [
            "['Ara', 'Earl', 'Rovic', 'Joyce', 'Diana']\n"
          ]
        }
      ],
      "source": [
        "my_queue = Queue()\n",
        "\n",
        "my_queue.enqueue(\"Ara\")\n",
        "my_queue.enqueue(\"Earl\")\n",
        "my_queue.enqueue(\"Rovic\")\n",
        "my_queue.enqueue(\"Joyce\")\n",
        "my_queue.enqueue(\"Diana\")\n",
        "\n",
        "my_queue.display()"
      ]
    },
    {
      "cell_type": "markdown",
      "metadata": {
        "id": "NZc1DwGIlmDJ"
      },
      "source": [
        "#### 2. Create a Deque\n",
        "\n",
        "Given the queue below,\n",
        "\n",
        "**Queue:**\n",
        "\n",
        "| Cat | Dog | Rabbit | Bird | Hamster\n",
        "| --- | --- | --- | --- | --- |\n",
        "\n",
        "**dequeue** each element and insert them into a **Deque** in the following order below:\n",
        "\n",
        "**Deque:**\n",
        "\n",
        "| Hamster | Bird | Rabbit | Dog | Cat\n",
        "| --- | --- | --- | --- | --- |\n",
        "\n",
        "**Expected output:**\n",
        "\n",
        "['Hamster','Bird', 'Rabbit', 'Dog', 'Cat']"
      ]
    },
    {
      "cell_type": "code",
      "execution_count": 61,
      "metadata": {
        "id": "qzmnSi0UlmDJ",
        "colab": {
          "base_uri": "https://localhost:8080/"
        },
        "outputId": "9074a741-9dbe-430b-ba36-6e6420069ae0"
      },
      "outputs": [
        {
          "output_type": "stream",
          "name": "stdout",
          "text": [
            "['Hamster', 'Bird', 'Rabbit', 'Dog', 'Cat']\n"
          ]
        }
      ],
      "source": [
        "my_queue = [\"Cat\", \"Dog\", \"Rabbit\", \"Bird\", \"Hamster\"]\n",
        "my_deque = Deque()\n",
        "\n",
        "while my_queue:\n",
        "  dequeued = my_queue.pop(0)\n",
        "  my_deque.addFront(dequeued)\n",
        "\n",
        "print(my_deque.items)"
      ]
    },
    {
      "cell_type": "code",
      "source": [
        "my_queue = Queue()\n",
        "my_deque = Deque()\n",
        "\n",
        "my_queue.enqueue(\"Cat\")\n",
        "my_queue.enqueue(\"Dog\")\n",
        "my_queue.enqueue(\"Rabbit\")\n",
        "my_queue.enqueue(\"Bird\")\n",
        "my_queue.enqueue(\"Hamster\")\n",
        "\n",
        "my_queue.dequeue()\n",
        "my_queue.dequeue()\n",
        "my_queue.dequeue()\n",
        "my_queue.dequeue()\n",
        "\n",
        "my_deque.addFront(my_queue.peek())\n",
        "my_deque.addRear(\"Bird\")\n",
        "my_deque.addRear(\"Rabbit\")\n",
        "my_deque.addRear(\"Dog\")\n",
        "my_deque.addRear(\"Cat\")\n",
        "\n",
        "print(my_deque.items)"
      ],
      "metadata": {
        "colab": {
          "base_uri": "https://localhost:8080/"
        },
        "id": "0gYtuOtKDhTh",
        "outputId": "dd0f539e-8fee-4d04-f1cd-be10481c2f0f"
      },
      "execution_count": 9,
      "outputs": [
        {
          "output_type": "stream",
          "name": "stdout",
          "text": [
            "['Hamster', 'Bird', 'Rabbit', 'Dog', 'Cat']\n"
          ]
        }
      ]
    },
    {
      "cell_type": "markdown",
      "metadata": {
        "id": "Y8k2HDlYlmDK"
      },
      "source": [
        "#### 3. Create a Circular Queue\n",
        "\n",
        "Given the queue below,\n",
        "\n",
        "**Queue:**\n",
        "\n",
        "| I | II | III | IV | V | VI | VII | VIII | IX | X | XI | XII\n",
        "| --- | --- | --- | --- | --- | --- | --- | --- | --- | --- | --- | --- |\n",
        "\n",
        "**dequeue** each element and insert them into a **Circular Deque** in the following order below:\n",
        "\n",
        "**Circular Queue:**\n",
        "\n",
        "<img src=\"clock.jpg\"/>\n",
        "\n",
        "**Expected output:**\n",
        "\n",
        "I II III IV V VI VII VIII IX X XI XII"
      ]
    },
    {
      "cell_type": "code",
      "execution_count": 56,
      "metadata": {
        "id": "G_aOcvCNlmDK",
        "colab": {
          "base_uri": "https://localhost:8080/"
        },
        "outputId": "8f69143c-7e65-4c40-a50d-26ae7c4af2f6"
      },
      "outputs": [
        {
          "output_type": "stream",
          "name": "stdout",
          "text": [
            "I II III IV V VI VII VIII IX X XI XII \n"
          ]
        }
      ],
      "source": [
        "my_queue = ['I',\t'II',\t'III',\t'IV',\t'V',\t'VI',\t'VII',\t'VIII',\t'IX',\t'X',\t'XI',\t'XII', ]\n",
        "myCircularQueue = CircularQueue(12)\n",
        "\n",
        "for i in range(12):\n",
        "  dequeued = my_queue.pop(0)\n",
        "  myCircularQueue.enqueue(dequeued)\n",
        "\n",
        "myCircularQueue.printCQueue()"
      ]
    },
    {
      "cell_type": "markdown",
      "metadata": {
        "id": "y-eyRN3-lmDL"
      },
      "source": [
        "#### 4. Create a Priority Queue\n",
        "\n",
        "Given the queue below,\n",
        "\n",
        "**Queue:**\n",
        "\n",
        "| Cat | Dog | Rabbit | Bird | Hamster\n",
        "| --- | --- | --- | --- | --- |\n",
        "\n",
        "\n",
        "**dequeue** each element and insert them into a **Priority Queue** with the following priority values\n",
        "\n",
        "**Priority Queue:**\n",
        "\n",
        "| Element | Priority |\n",
        "| --- | --- |\n",
        "| Hamster |  0 |\n",
        "| Bird |  1 |\n",
        "| Rabbit |  2 |\n",
        "| Dog |  3 |\n",
        "| Cat |  4 |\n",
        "\n",
        "**Expected output:**\n",
        "\n",
        "Hamster Bird Rabbit Dog Cat"
      ]
    },
    {
      "cell_type": "code",
      "execution_count": 12,
      "metadata": {
        "id": "Bd2o9xbwlmDL",
        "colab": {
          "base_uri": "https://localhost:8080/"
        },
        "outputId": "e44d0645-6ab9-4041-eb0e-f4b6fbb4a6e1"
      },
      "outputs": [
        {
          "output_type": "stream",
          "name": "stdout",
          "text": [
            "Hamster Bird Rabbit Dog Cat "
          ]
        }
      ],
      "source": [
        "my_queue = Queue()\n",
        "myPQ = PriorityQueue()\n",
        "\n",
        "my_queue.enqueue(\"Cat\")\n",
        "my_queue.enqueue(\"Dog\")\n",
        "my_queue.enqueue(\"Rabbit\")\n",
        "my_queue.enqueue(\"Bird\")\n",
        "my_queue.enqueue(\"Hamster\")\n",
        "\n",
        "priority_values = {\"Cat\": 4, \"Dog\": 3, \"Rabbit\": 2,  \"Bird\": 1, \"Hamster\": 0,}\n",
        "\n",
        "while my_queue.size() > 0:\n",
        "    animal = my_queue.dequeue()\n",
        "    priority = priority_values.get(animal)\n",
        "    myPQ.push(animal, priority)\n",
        "\n",
        "myPQ.traverse()\n",
        "\n"
      ]
    },
    {
      "cell_type": "code",
      "source": [
        "my_queue = Queue()\n",
        "myPQ = PriorityQueue()\n",
        "\n",
        "my_queue.enqueue(\"Cat\")\n",
        "my_queue.enqueue(\"Dog\")\n",
        "my_queue.enqueue(\"Rabbit\")\n",
        "my_queue.enqueue(\"Bird\")\n",
        "my_queue.enqueue(\"Hamster\")\n",
        "\n",
        "while my_queue.size() > 0:\n",
        "    animal = my_queue.dequeue()\n",
        "    if animal == \"Cat\":\n",
        "        myPQ.push(animal, 4)\n",
        "    elif animal == \"Dog\":\n",
        "        myPQ.push(animal, 3)\n",
        "    elif animal == \"Rabbit\":\n",
        "        myPQ.push(animal, 2)\n",
        "    elif animal == \"Bird\":\n",
        "        myPQ.push(animal, 1)\n",
        "    elif animal == \"Hamster\":\n",
        "        myPQ.push(animal, 0)\n",
        "\n",
        "myPQ.traverse()\n",
        "\n"
      ],
      "metadata": {
        "colab": {
          "base_uri": "https://localhost:8080/"
        },
        "id": "n09U8-MSSD5Z",
        "outputId": "1c4e6612-0fce-43e7-a776-c982df1d727f"
      },
      "execution_count": 21,
      "outputs": [
        {
          "output_type": "stream",
          "name": "stdout",
          "text": [
            "Hamster Bird Rabbit Dog Cat "
          ]
        }
      ]
    },
    {
      "cell_type": "markdown",
      "metadata": {
        "id": "voJpfnB8lmDL"
      },
      "source": [
        "#### 5. Create a Sorted Circular Queue\n",
        "\n",
        "Given the queue below,\n",
        "\n",
        "**Queue:**\n",
        "\n",
        "| 1 | 5 | 3 | 2 | 7 | 8 | 10 | 11 | 6 | 4 | 12 | 9\n",
        "| --- | --- | --- | --- | --- | --- | --- | --- | --- | --- | --- | --- |\n",
        "\n",
        "\n",
        "**dequeue** each element and insert them into a **Circular Queue** in the following order below:\n",
        "\n",
        "**Circular Queue:**\n",
        "\n",
        "<img src=\"clock1.png\"/>\n",
        "\n",
        "**Expected output:**\n",
        "\n",
        "1 2 3 4 5 6 7 8 9 10 11 12"
      ]
    },
    {
      "cell_type": "code",
      "execution_count": 44,
      "metadata": {
        "id": "TlLUFF1MlmDL",
        "colab": {
          "base_uri": "https://localhost:8080/"
        },
        "outputId": "10b9e71e-0170-457b-933a-f4d17cc87c68"
      },
      "outputs": [
        {
          "output_type": "stream",
          "name": "stdout",
          "text": [
            "[1, 2, 3, 4, 5, 6, 7, 8, 10, 11, 12] \n"
          ]
        }
      ],
      "source": [
        "# DI KASAMA\n",
        "\n",
        "my_queue = Queue()\n",
        "myCircularQueue = CircularQueue(12)\n",
        "\n",
        "my_queue.enqueue(1)\n",
        "my_queue.enqueue(5)\n",
        "my_queue.enqueue(3)\n",
        "my_queue.enqueue(2)\n",
        "my_queue.enqueue(7)\n",
        "my_queue.enqueue(8)\n",
        "my_queue.enqueue(10)\n",
        "my_queue.enqueue(11)\n",
        "my_queue.enqueue(6)\n",
        "my_queue.enqueue(4)\n",
        "my_queue.enqueue(12)\n",
        "my_queue.enqueue(9)\n",
        "\n",
        "dequeued = [my_queue.dequeue(), my_queue.dequeue(), my_queue.dequeue(), my_queue.dequeue(), my_queue.dequeue(),\n",
        "            my_queue.dequeue(), my_queue.dequeue(), my_queue.dequeue(), my_queue.dequeue(), my_queue.dequeue(),\n",
        "            my_queue.dequeue()]\n",
        "\n",
        "dequeued.sort()\n",
        "myCircularQueue.enqueue(dequeued)\n",
        "\n",
        "myCircularQueue.printCQueue()"
      ]
    },
    {
      "cell_type": "code",
      "source": [
        "my_queue = Queue()\n",
        "myCircularQueue = CircularQueue(12)\n",
        "\n",
        "numbers = [1, 5, 3, 2, 7, 8, 10, 11, 6, 4, 12, 9]\n",
        "\n",
        "# Dequeue and enqueue sorted elements\n",
        "for i in sorted(numbers):\n",
        "    my_queue.enqueue(i)\n",
        "    dequeued_numbers = my_queue.dequeue()\n",
        "    myCircularQueue.enqueue(dequeued_numbers)\n",
        "\n",
        "myCircularQueue.printCQueue()\n"
      ],
      "metadata": {
        "colab": {
          "base_uri": "https://localhost:8080/"
        },
        "id": "_uRQCP1Oolir",
        "outputId": "40e78a49-9fa1-4d65-d9e1-3d3c8751871f"
      },
      "execution_count": 53,
      "outputs": [
        {
          "output_type": "stream",
          "name": "stdout",
          "text": [
            "1 2 3 4 5 6 7 8 9 10 11 12 \n"
          ]
        }
      ]
    }
  ],
  "metadata": {
    "kernelspec": {
      "display_name": "Python 3",
      "language": "python",
      "name": "python3"
    },
    "language_info": {
      "codemirror_mode": {
        "name": "ipython",
        "version": 3
      },
      "file_extension": ".py",
      "mimetype": "text/x-python",
      "name": "python",
      "nbconvert_exporter": "python",
      "pygments_lexer": "ipython3",
      "version": "3.9.13"
    },
    "orig_nbformat": 4,
    "colab": {
      "provenance": [],
      "collapsed_sections": [
        "FgNkgSn3lmDI",
        "NZc1DwGIlmDJ"
      ],
      "include_colab_link": true
    }
  },
  "nbformat": 4,
  "nbformat_minor": 0
}