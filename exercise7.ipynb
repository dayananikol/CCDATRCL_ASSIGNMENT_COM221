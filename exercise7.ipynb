{
  "cells": [
    {
      "cell_type": "markdown",
      "metadata": {
        "id": "view-in-github",
        "colab_type": "text"
      },
      "source": [
        "<a href=\"https://colab.research.google.com/github/dayananikol/CCDATRCL_ASSIGNMENT_COM221/blob/main/exercise7.ipynb\" target=\"_parent\"><img src=\"https://colab.research.google.com/assets/colab-badge.svg\" alt=\"Open In Colab\"/></a>"
      ]
    },
    {
      "cell_type": "markdown",
      "metadata": {
        "id": "e3Ja3uozAJlw"
      },
      "source": [
        "# Exercise 7"
      ]
    },
    {
      "cell_type": "code",
      "execution_count": 1,
      "metadata": {
        "id": "IW6uTwU8AJly"
      },
      "outputs": [],
      "source": [
        "class Node:\n",
        "    def __init__(self, item):\n",
        "        self.left = None\n",
        "        self.right = None\n",
        "        self.val = item"
      ]
    },
    {
      "cell_type": "code",
      "execution_count": 2,
      "metadata": {
        "id": "uxVFuimIAJlz"
      },
      "outputs": [],
      "source": [
        "def evaluateExpressionTree(root):\n",
        "\n",
        "    # empty tree\n",
        "    if root is None:\n",
        "        return 0\n",
        "\n",
        "    # leaf node\n",
        "    if root.left is None and root.right is None:\n",
        "        return int(root.val)\n",
        "\n",
        "    # evaluate left tree\n",
        "    left_sum = evaluateExpressionTree(root.left)\n",
        "\n",
        "    # evaluate right tree\n",
        "    right_sum = evaluateExpressionTree(root.right)\n",
        "\n",
        "    # check which operation to apply\n",
        "    if root.val == '+':\n",
        "        return left_sum + right_sum\n",
        "\n",
        "    elif root.val == '-':\n",
        "        return left_sum - right_sum\n",
        "\n",
        "    elif root.val == '*':\n",
        "        return left_sum * right_sum\n",
        "\n",
        "    else:\n",
        "        return left_sum / right_sum"
      ]
    },
    {
      "cell_type": "code",
      "execution_count": 3,
      "metadata": {
        "id": "-xWZXA-mAJl0"
      },
      "outputs": [],
      "source": [
        "def inorder(root):\n",
        "\n",
        "    if root:\n",
        "        # Traverse left\n",
        "        inorder(root.left)\n",
        "        # Traverse root\n",
        "        print(str(root.val) + \"->\", end='')\n",
        "        # Traverse right\n",
        "        inorder(root.right)"
      ]
    },
    {
      "cell_type": "markdown",
      "metadata": {
        "id": "CVtqxh5DAJl1"
      },
      "source": [
        "#### 1. Construct a binary expression tree\n",
        "\n",
        "\n",
        "- Use the evaluateExpressionTree method to get the result of the expression\n",
        "- Use the inorder method to traverse the tree  \n",
        "\n",
        "$$ (8 + 4) * (7 - 9) $$"
      ]
    },
    {
      "cell_type": "code",
      "execution_count": 22,
      "metadata": {
        "id": "CxpP0zcVAJl1"
      },
      "outputs": [],
      "source": [
        "root = Node(\"*\")\n",
        "node1 = Node(\"+\")\n",
        "node2 = Node(\"-\")\n",
        "node3 = Node(\"8\")\n",
        "node4 = Node(\"4\")\n",
        "node5 = Node(\"7\")\n",
        "node6 = Node(\"9\")\n",
        "\n",
        "root.left = node1\n",
        "root.right = node2\n",
        "node1.left = node3\n",
        "node1.right = node4\n",
        "node2.left = node5\n",
        "node2.right = node6"
      ]
    },
    {
      "cell_type": "code",
      "source": [
        "evaluateExpressionTree(root)"
      ],
      "metadata": {
        "colab": {
          "base_uri": "https://localhost:8080/"
        },
        "id": "yZUvFkNlzzk8",
        "outputId": "521c6c08-663b-4b0b-9213-e4e4c79bb9c4"
      },
      "execution_count": 23,
      "outputs": [
        {
          "output_type": "execute_result",
          "data": {
            "text/plain": [
              "-24"
            ]
          },
          "metadata": {},
          "execution_count": 23
        }
      ]
    },
    {
      "cell_type": "code",
      "source": [
        "inorder(root)"
      ],
      "metadata": {
        "colab": {
          "base_uri": "https://localhost:8080/"
        },
        "id": "ClrbaKmf00d2",
        "outputId": "9357ff55-3827-48d1-a030-5ad5cf36a0a4"
      },
      "execution_count": 24,
      "outputs": [
        {
          "output_type": "stream",
          "name": "stdout",
          "text": [
            "8->+->4->*->7->-->9->"
          ]
        }
      ]
    },
    {
      "cell_type": "markdown",
      "metadata": {
        "id": "jc5KHLk6AJl2"
      },
      "source": [
        "#### 2. Construct a binary expression tree\n",
        "\n",
        "- Use the evaluateExpressionTree method to get the result of the expression\n",
        "- Use the inorder method to traverse the tree  \n",
        "\n",
        "$$ 5 / 8 + 3 - 6 * 1 $$"
      ]
    },
    {
      "cell_type": "code",
      "execution_count": 25,
      "metadata": {
        "id": "XORzqkC3AJl2"
      },
      "outputs": [],
      "source": [
        "root = Node(\"+\")\n",
        "node1 = Node(\"/\")\n",
        "node2 = Node(\"-\")\n",
        "node3 = Node(\"5\")\n",
        "node4 = Node(\"8\")\n",
        "node5 = Node(\"3\")\n",
        "node6 = Node(\"*\")\n",
        "node7 = Node(\"6\")\n",
        "node8 = Node(\"1\")\n",
        "\n",
        "root.left = node1\n",
        "root.right = node2\n",
        "node1.left = node3\n",
        "node1.right = node4\n",
        "node2.left = node5\n",
        "node2.right = node6\n",
        "node6.left = node7\n",
        "node6.right = node8"
      ]
    },
    {
      "cell_type": "code",
      "source": [
        "evaluateExpressionTree(root)"
      ],
      "metadata": {
        "colab": {
          "base_uri": "https://localhost:8080/"
        },
        "id": "EPZJiPCt1W_N",
        "outputId": "0378808a-b231-4e8f-8891-66e007463a91"
      },
      "execution_count": 26,
      "outputs": [
        {
          "output_type": "execute_result",
          "data": {
            "text/plain": [
              "-2.375"
            ]
          },
          "metadata": {},
          "execution_count": 26
        }
      ]
    },
    {
      "cell_type": "code",
      "source": [
        "inorder(root)"
      ],
      "metadata": {
        "colab": {
          "base_uri": "https://localhost:8080/"
        },
        "id": "-eduptqZ1aOM",
        "outputId": "ca184818-5862-4b66-fe68-0291fb37dfad"
      },
      "execution_count": 27,
      "outputs": [
        {
          "output_type": "stream",
          "name": "stdout",
          "text": [
            "5->/->8->+->3->-->6->*->1->"
          ]
        }
      ]
    },
    {
      "cell_type": "markdown",
      "metadata": {
        "id": "tu3n5ZdWAJl2"
      },
      "source": [
        "#### 3. Construct a binary expression tree\n",
        "\n",
        "- Use the evaluateExpressionTree method to get the result of the expression\n",
        "- Use the inorder method to traverse the tree  \n",
        "\n",
        "$$ ((2 + 5) / 3)- (3 + 8) $$"
      ]
    },
    {
      "cell_type": "code",
      "execution_count": 62,
      "metadata": {
        "id": "5GvZBxgtAJl3"
      },
      "outputs": [],
      "source": [
        "root = Node(\"-\")\n",
        "node1 = Node(\"/\")\n",
        "node2 = Node(\"+\")\n",
        "node3 = Node(\"+\")\n",
        "node4 = Node(\"2\")\n",
        "node5 = Node(\"5\")\n",
        "node6 = Node(\"3\")\n",
        "node7 = Node(\"3\")\n",
        "node8 = Node(\"8\")\n",
        "\n",
        "root.left = node1\n",
        "root.right = node3\n",
        "node1.left = node2\n",
        "node1.right = node6\n",
        "node2.left = node4\n",
        "node2.right = node5\n",
        "node3.left = node7\n",
        "node3.right = node8"
      ]
    },
    {
      "cell_type": "code",
      "source": [
        "evaluateExpressionTree(root)"
      ],
      "metadata": {
        "colab": {
          "base_uri": "https://localhost:8080/"
        },
        "id": "oSoPYs6C1vSB",
        "outputId": "2af57ca4-006f-4c1a-a006-8b2270958def"
      },
      "execution_count": 63,
      "outputs": [
        {
          "output_type": "execute_result",
          "data": {
            "text/plain": [
              "-8.666666666666666"
            ]
          },
          "metadata": {},
          "execution_count": 63
        }
      ]
    },
    {
      "cell_type": "code",
      "source": [
        "inorder(root)"
      ],
      "metadata": {
        "colab": {
          "base_uri": "https://localhost:8080/"
        },
        "id": "4qJYOFh11xF0",
        "outputId": "c7a55351-bf1b-4371-94aa-2ee3c2291707"
      },
      "execution_count": 64,
      "outputs": [
        {
          "output_type": "stream",
          "name": "stdout",
          "text": [
            "2->+->5->/->3->-->3->+->8->"
          ]
        }
      ]
    }
  ],
  "metadata": {
    "kernelspec": {
      "display_name": "Python 3",
      "language": "python",
      "name": "python3"
    },
    "language_info": {
      "codemirror_mode": {
        "name": "ipython",
        "version": 3
      },
      "file_extension": ".py",
      "mimetype": "text/x-python",
      "name": "python",
      "nbconvert_exporter": "python",
      "pygments_lexer": "ipython3",
      "version": "3.11.4"
    },
    "orig_nbformat": 4,
    "colab": {
      "provenance": [],
      "include_colab_link": true
    }
  },
  "nbformat": 4,
  "nbformat_minor": 0
}