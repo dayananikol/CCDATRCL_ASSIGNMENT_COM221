{
  "cells": [
    {
      "cell_type": "markdown",
      "metadata": {
        "id": "h2vFiYhGzZOg"
      },
      "source": [
        "# Exercise 1"
      ]
    },
    {
      "cell_type": "markdown",
      "source": [
        "## Class Initialization"
      ],
      "metadata": {
        "id": "sRm6kPQozcaU"
      }
    },
    {
      "cell_type": "code",
      "execution_count": null,
      "metadata": {
        "id": "b1u4Dt9mzZOi"
      },
      "outputs": [],
      "source": [
        "class Node:\n",
        "    def __init__(self, data):\n",
        "        self.data = data\n",
        "        self.next = None"
      ]
    },
    {
      "cell_type": "code",
      "execution_count": null,
      "metadata": {
        "id": "tigvHSaHzZOj"
      },
      "outputs": [],
      "source": [
        "class LinkedList:\n",
        "\n",
        "    def __init__(self):\n",
        "        self.head = None\n",
        "\n",
        "    def traverse(self, node):\n",
        "        while node:\n",
        "            print(node.data, end=\" -> \")\n",
        "            node = node.next"
      ]
    },
    {
      "cell_type": "code",
      "execution_count": null,
      "metadata": {
        "id": "LIkQBioVzZOk"
      },
      "outputs": [],
      "source": [
        "class DoublyLinkedList:\n",
        "\n",
        "    def __init__(self):\n",
        "        self.head = None\n",
        "\n",
        "    def traverse(self, node):\n",
        "        while node:\n",
        "            print(node.data, end=\" -> \")\n",
        "            node = node.next"
      ]
    },
    {
      "cell_type": "code",
      "execution_count": null,
      "metadata": {
        "id": "zlxNT5EozZOl"
      },
      "outputs": [],
      "source": [
        "class CircularLinkedList:\n",
        "\n",
        "    def __init__(self):\n",
        "        self.head = None\n",
        "\n",
        "    def traverse(self, node):\n",
        "\n",
        "        head = node\n",
        "\n",
        "        while node:\n",
        "            print(node.data, end=\" -> \")\n",
        "            node = node.next\n",
        "\n",
        "            # Break to prevent infinite loop\n",
        "            if node == head:\n",
        "                break"
      ]
    },
    {
      "cell_type": "markdown",
      "metadata": {
        "id": "O68-Q1-bzZOl"
      },
      "source": [
        "#### 1. Create a Singly Linked list\n",
        "\n",
        "- Each node should contain your name and your seatmates in your row\n",
        "- Create at least 5 nodes\n",
        "- Traverse all nodes"
      ]
    },
    {
      "cell_type": "code",
      "execution_count": null,
      "metadata": {
        "id": "pTcx_OuPzZOl",
        "colab": {
          "base_uri": "https://localhost:8080/"
        },
        "outputId": "2b058ff6-fe9f-4968-e93b-1da31947ab8f"
      },
      "outputs": [
        {
          "output_type": "stream",
          "name": "stdout",
          "text": [
            "Diana -> Joyce -> Cristian -> Munos -> Besa -> "
          ]
        }
      ],
      "source": [
        "linked_list = LinkedList()\n",
        "\n",
        "linked_list.head = Node (\"Diana\")\n",
        "node_b = Node(\"Joyce\")\n",
        "node_c = Node (\"Cristian\")\n",
        "node_d = Node (\"Munos\")\n",
        "node_e = Node (\"Besa\")\n",
        "\n",
        "linked_list.head.next = node_b\n",
        "node_b.next = node_c\n",
        "node_c.next = node_d\n",
        "node_d.next = node_e\n",
        "\n",
        "linked_list.traverse(linked_list.head)\n",
        "\n",
        "\n",
        "\n"
      ]
    },
    {
      "cell_type": "markdown",
      "metadata": {
        "id": "IFgwbdw_zZOm"
      },
      "source": [
        "#### 2. Create a Doubly Linked list\n",
        "\n",
        "- Each node should contain your name and your seatmates in your row\n",
        "- Create at least 5 nodes\n",
        "- Traverse all nodes"
      ]
    },
    {
      "cell_type": "code",
      "source": [
        "doubly_linked_list = DoublyLinkedList()\n",
        "\n",
        "doubly_linked_list.head = Node (\"Diana\")\n",
        "node_b = Node(\"Joyce\")\n",
        "node_c = Node (\"Cristian\")\n",
        "node_d = Node (\"Munos\")\n",
        "node_e = Node (\"Besa\")"
      ],
      "metadata": {
        "id": "94XcNR6OBWiA"
      },
      "execution_count": null,
      "outputs": []
    },
    {
      "cell_type": "code",
      "execution_count": null,
      "metadata": {
        "id": "8kQD2A_QzZOm"
      },
      "outputs": [],
      "source": [
        "doubly_linked_list.head.prev = None\n",
        "doubly_linked_list.head.next = node_b\n",
        "\n",
        "node_b.prev = doubly_linked_list.head\n",
        "node_b.next = node_c\n",
        "\n",
        "node_c.prev = node_b\n",
        "node_c.next = node_d\n",
        "\n",
        "node_d.prev = node_c\n",
        "node_d.next = node_e\n",
        "\n",
        "node_e.prev = node_d\n",
        "node_e.next = None\n",
        "\n"
      ]
    },
    {
      "cell_type": "code",
      "source": [
        "print(\"value of head is :\", doubly_linked_list.head.data)\n",
        "print(\"value of next to head is :\", doubly_linked_list.head.next.data)\n",
        "\n",
        "print(\"---\")\n",
        "\n",
        "print(\"value of node_b is :\", node_b.data)\n",
        "print(\"value of previous of node_b is :\", node_b.prev.data)\n",
        "print(\"value of next of node_b is :\", node_b.next.data)\n",
        "\n",
        "print(\"---\")\n",
        "\n",
        "print(\"value of node_c is :\", node_c.data)\n",
        "print(\"value of previous of node_c is :\", node_c.prev.data)\n",
        "\n",
        "print(\"---\")\n",
        "\n",
        "print(\"value of node_d is :\", node_d.data)\n",
        "print(\"value of previous of node_d is :\", node_d.prev.data)\n",
        "\n",
        "print(\"---\")\n",
        "\n",
        "print(\"value of node_e is :\", node_e.data)\n",
        "print(\"value of previous of node_e is :\", node_e.prev.data)\n",
        "\n",
        "print(\"---\")\n",
        "\n",
        "doubly_linked_list.traverse(doubly_linked_list.head)"
      ],
      "metadata": {
        "colab": {
          "base_uri": "https://localhost:8080/"
        },
        "id": "AHhcS5KGAwIq",
        "outputId": "ca6ee874-25d9-4cd5-ae32-1716dda359d2"
      },
      "execution_count": null,
      "outputs": [
        {
          "output_type": "stream",
          "name": "stdout",
          "text": [
            "value of head is : Diana\n",
            "value of next to head is : Joyce\n",
            "---\n",
            "value of node_b is : Joyce\n",
            "value of previous of node_b is : Diana\n",
            "value of next of node_b is : Cristian\n",
            "---\n",
            "value of node_c is : Cristian\n",
            "value of previous of node_c is : Joyce\n",
            "---\n",
            "value of node_d is : Munos\n",
            "value of previous of node_d is : Cristian\n",
            "---\n",
            "value of node_e is : Besa\n",
            "value of previous of node_e is : Munos\n",
            "---\n",
            "Diana -> Joyce -> Cristian -> Munos -> Besa -> "
          ]
        }
      ]
    },
    {
      "cell_type": "markdown",
      "metadata": {
        "id": "rtApbsCjzZOm"
      },
      "source": [
        "#### 3. Create a Circular Linked list\n",
        "\n",
        "- Each node should contain your name and your seatmates in your row\n",
        "- Create at least 5 nodes\n",
        "- Traverse all nodes"
      ]
    },
    {
      "cell_type": "code",
      "execution_count": null,
      "metadata": {
        "id": "Gp1Oiq0jzZOn"
      },
      "outputs": [],
      "source": [
        "circular_linked_list = CircularLinkedList()\n",
        "\n",
        "circular_linked_list.head = Node (\"Diana\")\n",
        "node_b = Node(\"Joyce\")\n",
        "node_c = Node (\"Cristian\")\n",
        "node_d = Node (\"Munos\")\n",
        "node_e = Node (\"Besa\")"
      ]
    },
    {
      "cell_type": "code",
      "source": [
        "circular_linked_list.head.next = node_b\n",
        "node_b.next = node_c\n",
        "node_c.next = node_d\n",
        "node_d.next = node_e\n",
        "node_e.next = circular_linked_list.head"
      ],
      "metadata": {
        "id": "xueulTpjCB3K"
      },
      "execution_count": null,
      "outputs": []
    },
    {
      "cell_type": "code",
      "source": [
        "print(\"value of head is :\", circular_linked_list.head.data)\n",
        "print(\"value of next to head is :\", circular_linked_list.head.next.data)\n",
        "\n",
        "print(\"---\")\n",
        "\n",
        "print(\"value of node_b is :\", node_b.data)\n",
        "print(\"value of next of node_b is :\", node_b.next.data)\n",
        "\n",
        "print(\"---\")\n",
        "\n",
        "print(\"value of node_c is :\", node_c.data)\n",
        "print(\"value of next of node_c is :\", node_c.next.data)\n",
        "\n",
        "print(\"---\")\n",
        "\n",
        "print(\"value of node_d is :\", node_d.data)\n",
        "print(\"value of next of node_d is :\", node_d.next.data)\n",
        "\n",
        "print(\"---\")\n",
        "\n",
        "print(\"value of node_e is :\", node_e.data)\n",
        "print(\"value of next of node_e is :\", node_e.next.data)\n",
        "\n",
        "print(\"---\")\n",
        "\n",
        "circular_linked_list.traverse(circular_linked_list.head)"
      ],
      "metadata": {
        "colab": {
          "base_uri": "https://localhost:8080/"
        },
        "id": "xYWQWYefCTFH",
        "outputId": "490e2f4a-71e7-458b-e1dd-20a8277ba6ab"
      },
      "execution_count": null,
      "outputs": [
        {
          "output_type": "stream",
          "name": "stdout",
          "text": [
            "value of head is : Diana\n",
            "value of next to head is : Joyce\n",
            "---\n",
            "value of node_b is : Joyce\n",
            "value of next of node_b is : Cristian\n",
            "---\n",
            "value of node_c is : Cristian\n",
            "value of next of node_c is : Munos\n",
            "---\n",
            "value of node_d is : Munos\n",
            "value of next of node_d is : Besa\n",
            "---\n",
            "value of node_e is : Besa\n",
            "value of next of node_e is : Diana\n",
            "Diana -> Joyce -> Cristian -> Munos -> Besa -> "
          ]
        }
      ]
    }
  ],
  "metadata": {
    "kernelspec": {
      "display_name": "Python 3",
      "language": "python",
      "name": "python3"
    },
    "language_info": {
      "name": "python",
      "version": "3.11.4"
    },
    "orig_nbformat": 4,
    "colab": {
      "provenance": []
    }
  },
  "nbformat": 4,
  "nbformat_minor": 0
}